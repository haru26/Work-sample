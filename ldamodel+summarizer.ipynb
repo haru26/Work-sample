{
 "cells": [
  {
   "cell_type": "code",
   "execution_count": 1,
   "metadata": {},
   "outputs": [],
   "source": [
    "import pandas as pd\n",
    "import gensim\n",
    "import gensim.corpora as corpora\n",
    "from nltk.stem import PorterStemmer\n",
    "from nltk.stem import WordNetLemmatizer\n",
    "from sklearn import datasets, linear_model\n",
    "from sklearn.model_selection import train_test_split\n",
    "import re\n",
    "from nltk.corpus import stopwords\n",
    "import numpy as np\n",
    "import seaborn as sns\n",
    "import matplotlib.pyplot as plt\n",
    "from nltk.tokenize import word_tokenize\n",
    "from nltk import FreqDist\n",
    "import spacy\n",
    "from string import punctuation"
   ]
  },
  {
   "cell_type": "code",
   "execution_count": 7,
   "metadata": {},
   "outputs": [],
   "source": [
    "stop_words = set(stopwords.words('english'))"
   ]
  },
  {
   "cell_type": "markdown",
   "metadata": {},
   "source": [
    "# Use whole narratives to find how company response to consumer"
   ]
  },
  {
   "cell_type": "code",
   "execution_count": 2,
   "metadata": {},
   "outputs": [],
   "source": [
    "df = pd.read_csv('D:/narratives.csv')"
   ]
  },
  {
   "cell_type": "code",
   "execution_count": 4,
   "metadata": {},
   "outputs": [
    {
     "data": {
      "text/html": [
       "<div>\n",
       "<style scoped>\n",
       "    .dataframe tbody tr th:only-of-type {\n",
       "        vertical-align: middle;\n",
       "    }\n",
       "\n",
       "    .dataframe tbody tr th {\n",
       "        vertical-align: top;\n",
       "    }\n",
       "\n",
       "    .dataframe thead th {\n",
       "        text-align: right;\n",
       "    }\n",
       "</style>\n",
       "<table border=\"1\" class=\"dataframe\">\n",
       "  <thead>\n",
       "    <tr style=\"text-align: right;\">\n",
       "      <th></th>\n",
       "      <th>Unnamed: 0</th>\n",
       "      <th>Date.received</th>\n",
       "      <th>Product</th>\n",
       "      <th>Sub.product</th>\n",
       "      <th>Issue</th>\n",
       "      <th>Sub.issue</th>\n",
       "      <th>Consumer.complaint.narrative</th>\n",
       "      <th>Company.public.response</th>\n",
       "      <th>Company</th>\n",
       "      <th>State</th>\n",
       "      <th>ZIP.code</th>\n",
       "      <th>Tags</th>\n",
       "      <th>Consumer.consent.provided.</th>\n",
       "      <th>Submitted.via</th>\n",
       "      <th>Date.sent.to.company</th>\n",
       "      <th>Company.response.to.consumer</th>\n",
       "      <th>Timely.response.</th>\n",
       "      <th>Consumer.disputed.</th>\n",
       "      <th>Complaint.ID</th>\n",
       "    </tr>\n",
       "  </thead>\n",
       "  <tbody>\n",
       "    <tr>\n",
       "      <td>0</td>\n",
       "      <td>1</td>\n",
       "      <td>2019-09-24</td>\n",
       "      <td>Debt collection</td>\n",
       "      <td>I do not know</td>\n",
       "      <td>Attempts to collect debt not owed</td>\n",
       "      <td>Debt is not yours</td>\n",
       "      <td>transworld systems inc. \\r\\nis trying to colle...</td>\n",
       "      <td>NaN</td>\n",
       "      <td>TRANSWORLD SYSTEMS INC</td>\n",
       "      <td>FL</td>\n",
       "      <td>335XX</td>\n",
       "      <td>NaN</td>\n",
       "      <td>Consent provided</td>\n",
       "      <td>Web</td>\n",
       "      <td>2019-09-24</td>\n",
       "      <td>Closed with explanation</td>\n",
       "      <td>Yes</td>\n",
       "      <td>NaN</td>\n",
       "      <td>3384392</td>\n",
       "    </tr>\n",
       "    <tr>\n",
       "      <td>1</td>\n",
       "      <td>3</td>\n",
       "      <td>2019-10-25</td>\n",
       "      <td>Credit reporting, credit repair services, or o...</td>\n",
       "      <td>Credit reporting</td>\n",
       "      <td>Incorrect information on your report</td>\n",
       "      <td>Information belongs to someone else</td>\n",
       "      <td>I would like to request the suppression of the...</td>\n",
       "      <td>Company has responded to the consumer and the ...</td>\n",
       "      <td>TRANSUNION INTERMEDIATE HOLDINGS, INC.</td>\n",
       "      <td>CA</td>\n",
       "      <td>937XX</td>\n",
       "      <td>NaN</td>\n",
       "      <td>Consent provided</td>\n",
       "      <td>Web</td>\n",
       "      <td>2019-10-25</td>\n",
       "      <td>Closed with explanation</td>\n",
       "      <td>Yes</td>\n",
       "      <td>NaN</td>\n",
       "      <td>3417821</td>\n",
       "    </tr>\n",
       "    <tr>\n",
       "      <td>2</td>\n",
       "      <td>4</td>\n",
       "      <td>2019-11-08</td>\n",
       "      <td>Debt collection</td>\n",
       "      <td>I do not know</td>\n",
       "      <td>Communication tactics</td>\n",
       "      <td>Frequent or repeated calls</td>\n",
       "      <td>Over the past 2 weeks, I have been receiving e...</td>\n",
       "      <td>NaN</td>\n",
       "      <td>Diversified Consultants, Inc.</td>\n",
       "      <td>NC</td>\n",
       "      <td>275XX</td>\n",
       "      <td>NaN</td>\n",
       "      <td>Consent provided</td>\n",
       "      <td>Web</td>\n",
       "      <td>2019-11-08</td>\n",
       "      <td>Closed with explanation</td>\n",
       "      <td>Yes</td>\n",
       "      <td>NaN</td>\n",
       "      <td>3433198</td>\n",
       "    </tr>\n",
       "    <tr>\n",
       "      <td>3</td>\n",
       "      <td>11</td>\n",
       "      <td>2019-09-08</td>\n",
       "      <td>Money transfer, virtual currency, or money ser...</td>\n",
       "      <td>Domestic (US) money transfer</td>\n",
       "      <td>Fraud or scam</td>\n",
       "      <td>NaN</td>\n",
       "      <td>I was sold access to an event digitally, of wh...</td>\n",
       "      <td>NaN</td>\n",
       "      <td>Paypal Holdings, Inc</td>\n",
       "      <td>RI</td>\n",
       "      <td>029XX</td>\n",
       "      <td>NaN</td>\n",
       "      <td>Consent provided</td>\n",
       "      <td>Web</td>\n",
       "      <td>2019-09-08</td>\n",
       "      <td>Closed with explanation</td>\n",
       "      <td>Yes</td>\n",
       "      <td>NaN</td>\n",
       "      <td>3366475</td>\n",
       "    </tr>\n",
       "    <tr>\n",
       "      <td>4</td>\n",
       "      <td>12</td>\n",
       "      <td>2019-09-24</td>\n",
       "      <td>Debt collection</td>\n",
       "      <td>Medical debt</td>\n",
       "      <td>Attempts to collect debt not owed</td>\n",
       "      <td>Debt is not yours</td>\n",
       "      <td>While checking my credit report I noticed thre...</td>\n",
       "      <td>Company has responded to the consumer and the ...</td>\n",
       "      <td>HCFS Health Care Financial Services, Inc.</td>\n",
       "      <td>FL</td>\n",
       "      <td>333XX</td>\n",
       "      <td>NaN</td>\n",
       "      <td>Consent provided</td>\n",
       "      <td>Web</td>\n",
       "      <td>2019-09-24</td>\n",
       "      <td>Closed with explanation</td>\n",
       "      <td>Yes</td>\n",
       "      <td>NaN</td>\n",
       "      <td>3385399</td>\n",
       "    </tr>\n",
       "  </tbody>\n",
       "</table>\n",
       "</div>"
      ],
      "text/plain": [
       "   Unnamed: 0 Date.received  \\\n",
       "0           1    2019-09-24   \n",
       "1           3    2019-10-25   \n",
       "2           4    2019-11-08   \n",
       "3          11    2019-09-08   \n",
       "4          12    2019-09-24   \n",
       "\n",
       "                                             Product  \\\n",
       "0                                    Debt collection   \n",
       "1  Credit reporting, credit repair services, or o...   \n",
       "2                                    Debt collection   \n",
       "3  Money transfer, virtual currency, or money ser...   \n",
       "4                                    Debt collection   \n",
       "\n",
       "                    Sub.product                                 Issue  \\\n",
       "0                 I do not know     Attempts to collect debt not owed   \n",
       "1              Credit reporting  Incorrect information on your report   \n",
       "2                 I do not know                 Communication tactics   \n",
       "3  Domestic (US) money transfer                         Fraud or scam   \n",
       "4                  Medical debt     Attempts to collect debt not owed   \n",
       "\n",
       "                             Sub.issue  \\\n",
       "0                    Debt is not yours   \n",
       "1  Information belongs to someone else   \n",
       "2           Frequent or repeated calls   \n",
       "3                                  NaN   \n",
       "4                    Debt is not yours   \n",
       "\n",
       "                        Consumer.complaint.narrative  \\\n",
       "0  transworld systems inc. \\r\\nis trying to colle...   \n",
       "1  I would like to request the suppression of the...   \n",
       "2  Over the past 2 weeks, I have been receiving e...   \n",
       "3  I was sold access to an event digitally, of wh...   \n",
       "4  While checking my credit report I noticed thre...   \n",
       "\n",
       "                             Company.public.response  \\\n",
       "0                                                NaN   \n",
       "1  Company has responded to the consumer and the ...   \n",
       "2                                                NaN   \n",
       "3                                                NaN   \n",
       "4  Company has responded to the consumer and the ...   \n",
       "\n",
       "                                     Company State ZIP.code Tags  \\\n",
       "0                     TRANSWORLD SYSTEMS INC    FL    335XX  NaN   \n",
       "1     TRANSUNION INTERMEDIATE HOLDINGS, INC.    CA    937XX  NaN   \n",
       "2              Diversified Consultants, Inc.    NC    275XX  NaN   \n",
       "3                       Paypal Holdings, Inc    RI    029XX  NaN   \n",
       "4  HCFS Health Care Financial Services, Inc.    FL    333XX  NaN   \n",
       "\n",
       "  Consumer.consent.provided. Submitted.via Date.sent.to.company  \\\n",
       "0           Consent provided           Web           2019-09-24   \n",
       "1           Consent provided           Web           2019-10-25   \n",
       "2           Consent provided           Web           2019-11-08   \n",
       "3           Consent provided           Web           2019-09-08   \n",
       "4           Consent provided           Web           2019-09-24   \n",
       "\n",
       "  Company.response.to.consumer Timely.response. Consumer.disputed.  \\\n",
       "0      Closed with explanation              Yes                NaN   \n",
       "1      Closed with explanation              Yes                NaN   \n",
       "2      Closed with explanation              Yes                NaN   \n",
       "3      Closed with explanation              Yes                NaN   \n",
       "4      Closed with explanation              Yes                NaN   \n",
       "\n",
       "   Complaint.ID  \n",
       "0       3384392  \n",
       "1       3417821  \n",
       "2       3433198  \n",
       "3       3366475  \n",
       "4       3385399  "
      ]
     },
     "execution_count": 4,
     "metadata": {},
     "output_type": "execute_result"
    }
   ],
   "source": [
    "df.head()"
   ]
  },
  {
   "cell_type": "code",
   "execution_count": 5,
   "metadata": {},
   "outputs": [
    {
     "data": {
      "text/plain": [
       "(487582, 19)"
      ]
     },
     "execution_count": 5,
     "metadata": {},
     "output_type": "execute_result"
    }
   ],
   "source": [
    "df.shape"
   ]
  },
  {
   "cell_type": "code",
   "execution_count": 6,
   "metadata": {},
   "outputs": [],
   "source": [
    "#clean the column names\n",
    "lis = []\n",
    "for name in df.columns:\n",
    "    name = re.sub('[^a-zA-Z0-9]+', \"_\", name)\n",
    "    lis.append(name)\n",
    "    \n",
    "df.columns = lis"
   ]
  },
  {
   "cell_type": "code",
   "execution_count": 7,
   "metadata": {},
   "outputs": [],
   "source": [
    "df_close = df[df['Company_response_to_consumer'].notna()]"
   ]
  },
  {
   "cell_type": "code",
   "execution_count": 8,
   "metadata": {},
   "outputs": [
    {
     "data": {
      "text/plain": [
       "(487581, 19)"
      ]
     },
     "execution_count": 8,
     "metadata": {},
     "output_type": "execute_result"
    }
   ],
   "source": [
    "df_close.shape"
   ]
  },
  {
   "cell_type": "code",
   "execution_count": 9,
   "metadata": {},
   "outputs": [],
   "source": [
    "df_sample, df_drop_it = train_test_split(df_close, train_size =0.1, stratify=df_close['Company_response_to_consumer'])"
   ]
  },
  {
   "cell_type": "code",
   "execution_count": 10,
   "metadata": {},
   "outputs": [
    {
     "data": {
      "text/plain": [
       "(48758, 19)"
      ]
     },
     "execution_count": 10,
     "metadata": {},
     "output_type": "execute_result"
    }
   ],
   "source": [
    "df_sample.shape"
   ]
  },
  {
   "cell_type": "code",
   "execution_count": 11,
   "metadata": {},
   "outputs": [],
   "source": [
    "df_clean = pd.DataFrame()\n",
    "\n",
    "for x in df_sample.Consumer_complaint_narrative:\n",
    "    x_clean = re.sub('[^a-zA-Z]+', ' ', x)\n",
    "    x_clean = re.sub('XXXX', '', x_clean)\n",
    "    x_clean = re.sub('XX/XX', \"\", x_clean)\n",
    "    x_clean = re.sub('XX/XX/', \"\", x_clean)\n",
    "    x_clean = re.sub('XXX', \"\", x_clean)\n",
    "    x_clean = re.sub('XX', \"\", x_clean)\n",
    "    text = [word.lower() for word in x_clean.split()]\n",
    "    text = [word for word in text if word not in stop_words]\n",
    "    long_words=[]\n",
    "    for i in text:\n",
    "        if len(i)>1:                    \n",
    "            long_words.append(i)   \n",
    "    text = [my_stem.lemmatize(word) for word in long_words]\n",
    "    join = \" \".join(text)\n",
    "    df_clean = df_clean.append({\"body_stem\" : text, \"body\" : join}, ignore_index=True)"
   ]
  },
  {
   "cell_type": "code",
   "execution_count": 12,
   "metadata": {},
   "outputs": [
    {
     "data": {
      "text/plain": [
       "(48758, 2)"
      ]
     },
     "execution_count": 12,
     "metadata": {},
     "output_type": "execute_result"
    }
   ],
   "source": [
    "df_clean.shape"
   ]
  },
  {
   "cell_type": "code",
   "execution_count": 13,
   "metadata": {},
   "outputs": [],
   "source": [
    "df_clean['Company_response_to_consumer'] = list(df_sample.Company_response_to_consumer)"
   ]
  },
  {
   "cell_type": "code",
   "execution_count": 14,
   "metadata": {},
   "outputs": [
    {
     "data": {
      "text/html": [
       "<div>\n",
       "<style scoped>\n",
       "    .dataframe tbody tr th:only-of-type {\n",
       "        vertical-align: middle;\n",
       "    }\n",
       "\n",
       "    .dataframe tbody tr th {\n",
       "        vertical-align: top;\n",
       "    }\n",
       "\n",
       "    .dataframe thead th {\n",
       "        text-align: right;\n",
       "    }\n",
       "</style>\n",
       "<table border=\"1\" class=\"dataframe\">\n",
       "  <thead>\n",
       "    <tr style=\"text-align: right;\">\n",
       "      <th></th>\n",
       "      <th>body</th>\n",
       "      <th>body_stem</th>\n",
       "      <th>Company_response_to_consumer</th>\n",
       "    </tr>\n",
       "  </thead>\n",
       "  <tbody>\n",
       "    <tr>\n",
       "      <td>0</td>\n",
       "      <td>mid valley collection bureau mvcb formerly bus...</td>\n",
       "      <td>[mid, valley, collection, bureau, mvcb, former...</td>\n",
       "      <td>Closed with explanation</td>\n",
       "    </tr>\n",
       "    <tr>\n",
       "      <td>1</td>\n",
       "      <td>judge dismissed case twice debt collector hara...</td>\n",
       "      <td>[judge, dismissed, case, twice, debt, collecto...</td>\n",
       "      <td>Closed with explanation</td>\n",
       "    </tr>\n",
       "    <tr>\n",
       "      <td>2</td>\n",
       "      <td>account type installment loan account number d...</td>\n",
       "      <td>[account, type, installment, loan, account, nu...</td>\n",
       "      <td>Closed with explanation</td>\n",
       "    </tr>\n",
       "    <tr>\n",
       "      <td>3</td>\n",
       "      <td>submitted dispute equifax bankruptcy public re...</td>\n",
       "      <td>[submitted, dispute, equifax, bankruptcy, publ...</td>\n",
       "      <td>Closed with explanation</td>\n",
       "    </tr>\n",
       "    <tr>\n",
       "      <td>4</td>\n",
       "      <td>company list went forclosure never borrowed mo...</td>\n",
       "      <td>[company, list, went, forclosure, never, borro...</td>\n",
       "      <td>Closed with explanation</td>\n",
       "    </tr>\n",
       "  </tbody>\n",
       "</table>\n",
       "</div>"
      ],
      "text/plain": [
       "                                                body  \\\n",
       "0  mid valley collection bureau mvcb formerly bus...   \n",
       "1  judge dismissed case twice debt collector hara...   \n",
       "2  account type installment loan account number d...   \n",
       "3  submitted dispute equifax bankruptcy public re...   \n",
       "4  company list went forclosure never borrowed mo...   \n",
       "\n",
       "                                           body_stem  \\\n",
       "0  [mid, valley, collection, bureau, mvcb, former...   \n",
       "1  [judge, dismissed, case, twice, debt, collecto...   \n",
       "2  [account, type, installment, loan, account, nu...   \n",
       "3  [submitted, dispute, equifax, bankruptcy, publ...   \n",
       "4  [company, list, went, forclosure, never, borro...   \n",
       "\n",
       "  Company_response_to_consumer  \n",
       "0      Closed with explanation  \n",
       "1      Closed with explanation  \n",
       "2      Closed with explanation  \n",
       "3      Closed with explanation  \n",
       "4      Closed with explanation  "
      ]
     },
     "execution_count": 14,
     "metadata": {},
     "output_type": "execute_result"
    }
   ],
   "source": [
    "df_clean.head()"
   ]
  },
  {
   "cell_type": "markdown",
   "metadata": {},
   "source": [
    "### LDA"
   ]
  },
  {
   "cell_type": "code",
   "execution_count": 25,
   "metadata": {},
   "outputs": [
    {
     "data": {
      "text/plain": [
       "{'Closed': [(0,\n",
       "   '0.015*\"account\" + 0.014*\"credit\" + 0.011*\"debt\" + 0.009*\"payment\" + 0.008*\"collection\" + 0.008*\"bank\" + 0.008*\"loan\" + 0.008*\"would\" + 0.007*\"company\" + 0.007*\"call\"')],\n",
       " 'Closed with non-monetary relief': [(0,\n",
       "   '0.027*\"credit\" + 0.024*\"account\" + 0.016*\"report\" + 0.010*\"payment\" + 0.009*\"information\" + 0.007*\"reporting\" + 0.007*\"debt\" + 0.007*\"time\" + 0.006*\"would\" + 0.006*\"company\"')],\n",
       " 'Untimely response': [(0,\n",
       "   '0.013*\"debt\" + 0.012*\"call\" + 0.012*\"account\" + 0.011*\"company\" + 0.009*\"credit\" + 0.009*\"loan\" + 0.009*\"would\" + 0.008*\"payment\" + 0.008*\"phone\" + 0.008*\"number\"')],\n",
       " 'Closed with monetary relief': [(0,\n",
       "   '0.021*\"account\" + 0.014*\"bank\" + 0.012*\"payment\" + 0.012*\"fee\" + 0.012*\"card\" + 0.011*\"would\" + 0.011*\"credit\" + 0.009*\"told\" + 0.008*\"time\" + 0.008*\"charge\"')],\n",
       " 'Closed with explanation': [(0,\n",
       "   '0.018*\"credit\" + 0.018*\"account\" + 0.013*\"payment\" + 0.010*\"loan\" + 0.009*\"report\" + 0.008*\"information\" + 0.008*\"would\" + 0.008*\"debt\" + 0.007*\"time\" + 0.007*\"company\"')]}"
      ]
     },
     "execution_count": 25,
     "metadata": {},
     "output_type": "execute_result"
    }
   ],
   "source": [
    "unique_labels = set(df_clean.Company_response_to_consumer)\n",
    "the_topic_dict = dict()\n",
    "\n",
    "for label in unique_labels:\n",
    "    id2word = corpora.Dictionary(df_clean.body_stem[df_clean.Company_response_to_consumer == label])\n",
    "    corpus = [id2word.doc2bow(text) for text in df_clean.body_stem[df_clean.Company_response_to_consumer == label]]\n",
    "    \n",
    "    ldamodel = gensim.models.ldamodel.LdaModel(corpus, num_topics=1,\n",
    "                                                       id2word=id2word,\n",
    "                                                       random_state=100,\n",
    "                                                       update_every=1,\n",
    "                                                       chunksize=100,\n",
    "                                                       passes=10,\n",
    "                                                       alpha='auto',\n",
    "                                                       per_word_topics=True)\n",
    "    topics = ldamodel.print_topics(num_words=10)\n",
    "            \n",
    "    the_topic_dict[label] = topics\n",
    "        \n",
    "the_topic_dict"
   ]
  },
  {
   "cell_type": "markdown",
   "metadata": {},
   "source": [
    "# Overview data"
   ]
  },
  {
   "cell_type": "code",
   "execution_count": 4,
   "metadata": {},
   "outputs": [],
   "source": [
    "df = pd.read_csv('D:/complaints.csv')"
   ]
  },
  {
   "cell_type": "code",
   "execution_count": 5,
   "metadata": {},
   "outputs": [
    {
     "data": {
      "text/plain": [
       "Index(['Date received', 'Product', 'Sub-product', 'Issue', 'Sub-issue',\n",
       "       'Consumer complaint narrative', 'Company public response', 'Company',\n",
       "       'State', 'ZIP code', 'Tags', 'Consumer consent provided?',\n",
       "       'Submitted via', 'Date sent to company', 'Company response to consumer',\n",
       "       'Timely response?', 'Consumer disputed?', 'Complaint ID'],\n",
       "      dtype='object')"
      ]
     },
     "execution_count": 5,
     "metadata": {},
     "output_type": "execute_result"
    }
   ],
   "source": [
    "df.columns"
   ]
  },
  {
   "cell_type": "code",
   "execution_count": 7,
   "metadata": {},
   "outputs": [
    {
     "data": {
      "text/plain": [
       "<matplotlib.axes._subplots.AxesSubplot at 0x2850229dc48>"
      ]
     },
     "execution_count": 7,
     "metadata": {},
     "output_type": "execute_result"
    },
    {
     "data": {
      "image/png": "[encoded data removed]",
      "text/plain": [
       "<Figure size 432x288 with 1 Axes>"
      ]
     },
     "metadata": {
      "needs_background": "light"
     },
     "output_type": "display_data"
    }
   ],
   "source": [
    "pd.crosstab(df['Product'],df['Timely response?']).plot(kind='bar')"
   ]
  },
  {
   "cell_type": "markdown",
   "metadata": {},
   "source": [
    "# Text summerization"
   ]
  },
  {
   "cell_type": "code",
   "execution_count": 3,
   "metadata": {},
   "outputs": [],
   "source": [
    "import en_core_web_sm\n",
    "nlp = en_core_web_sm.load()"
   ]
  },
  {
   "cell_type": "code",
   "execution_count": 11,
   "metadata": {},
   "outputs": [],
   "source": [
    "def summarizer(text, percentage):\n",
    "    doc = nlp(text)\n",
    "    word_frequencies = {}\n",
    "    for word in doc:\n",
    "        if word.text.lower() not in stop_words:\n",
    "            if word.text.lower() not in punctuation:\n",
    "                if word.text not in word_frequencies.keys():\n",
    "                    word_frequencies[word.text] = 1\n",
    "                else:\n",
    "                    word_frequencies[word.text] += 1\n",
    "                    \n",
    "    max_frequency = max(word_frequencies.values())              \n",
    "    for word in word_frequencies.keys():\n",
    "        word_frequencies[word] = word_frequencies[word]/max_frequency\n",
    "    \n",
    "    sentence_tokens = [sent for sent in doc.sents]\n",
    "    sentence_scores = {}\n",
    "    for sent in sentence_tokens:\n",
    "        for word in sent:\n",
    "            if word.text.lower() in word_frequencies.keys():\n",
    "                if sent not in sentence_scores.keys():\n",
    "                    sentence_scores[sent] = word_frequencies[word.text.lower()]\n",
    "                else:\n",
    "                    sentence_scores[sent] += word_frequencies[word.text.lower()]\n",
    "    from heapq import nlargest\n",
    "    select_length = int(len(sentence_tokens)*percentage)\n",
    "    if select_length < 1:\n",
    "        summary = nlargest(1, sentence_scores, key = sentence_scores.get)\n",
    "        final_summary = [word.text for word in summary]\n",
    "        summary = ' '.join(final_summary)\n",
    "    else:\n",
    "        summary = nlargest(select_length, sentence_scores, key = sentence_scores.get)\n",
    "        final_summary = [word.text for word in summary]\n",
    "        summary = ' '.join(final_summary)\n",
    "    \n",
    "    return summary"
   ]
  },
  {
   "cell_type": "code",
   "execution_count": 12,
   "metadata": {},
   "outputs": [],
   "source": [
    "df = pd.read_csv('D:/loan_nar.csv')\n",
    "#clean the column names\n",
    "lis = []\n",
    "for name in df.columns:\n",
    "    name = re.sub('[^a-zA-Z0-9]+', \"_\", name)\n",
    "    lis.append(name)\n",
    "    \n",
    "df.columns = lis"
   ]
  },
  {
   "cell_type": "code",
   "execution_count": 13,
   "metadata": {
    "scrolled": false
   },
   "outputs": [
    {
     "name": "stdout",
     "output_type": "stream",
     "text": [
      "original text:  XXXX is reporting incorrectly to Equifax and XXXX an account balance of {$2300.00} on the XXXX partial account number XXXX. ( Please see pages 12 and 13 of the attached credit report ). This account is over 7 years old and therefore should not be on my credit report. This incorrect reporting is harming my credit score and is a Fair Credit Reporting Act ( F.C.R.A. ) violation.\n",
      "summarized text:  This incorrect reporting is harming my credit score and is a Fair Credit Reporting Act ( F.C.R.A. ) violation.\n"
     ]
    }
   ],
   "source": [
    "#Can be very effective to identify subissue\n",
    "x = df.Consumer_complaint_narrative[4]\n",
    "y = summarizer(x, 0.3)\n",
    "print('original text: ', x)\n",
    "print('summarized text: ', y)"
   ]
  },
  {
   "cell_type": "code",
   "execution_count": 14,
   "metadata": {},
   "outputs": [
    {
     "name": "stdout",
     "output_type": "stream",
     "text": [
      "original text:  XXXX ; XXXX and Transunion are reporting incorrectly that I am ( 60 ) days late on the XXXX XXXX account number XXXX. ( Please see page attached from my credit report. ) This account reports a {$0.00} balance and {$0.00} past due. Please keep in mind that it is impossible to be late on an account that has a {$0.00} balance and {$0.00} past due. This incorrect reporting is harming my credit score and these line items need to be removed from my credit report. I have contacted the ( 3 ) bureaus to fix this however, I have not been successful.\n",
      "summarized text:  Please keep in mind that it is impossible to be late on an account that has a {$0.00} balance and {$0.00} past due.\n"
     ]
    }
   ],
   "source": [
    "x = df.Consumer_complaint_narrative[19]\n",
    "y = summarizer(x, 0.3)\n",
    "print('original text: ', x)\n",
    "print('summarized text: ', y)"
   ]
  },
  {
   "cell_type": "code",
   "execution_count": 16,
   "metadata": {},
   "outputs": [
    {
     "name": "stdout",
     "output_type": "stream",
     "text": [
      "original text:  I am very concerned about the validity and accuracy of the recent investigation done by Equifax. I requested for an investigation because the accounts have nothing to do with me. I am a victim of identity theft and the accounts are not my responsibility. Equifax failed to give me the result of their investigation. I assume they were unable to verify it. The error has affected my credit score tremendously. CFPB please step up and delete this ASAP, this is very exhausting, nobody wants to grant me a loan because of this. \r\n",
      "\r\n",
      "XXXX XXXX XXXX XXXX XXXX\n",
      "summarized text:  I am very concerned about the validity and accuracy of the recent investigation done by Equifax. I requested for an investigation because the accounts have nothing to do with me. Equifax failed to give me the result of their investigation. I am a victim of identity theft and the accounts are not my responsibility.\n"
     ]
    }
   ],
   "source": [
    "x = df.Consumer_complaint_narrative[244]\n",
    "y = summarizer(x, 0.5)\n",
    "print('original text: ', x)\n",
    "print('summarized text: ', y)"
   ]
  },
  {
   "cell_type": "code",
   "execution_count": null,
   "metadata": {},
   "outputs": [],
   "source": []
  }
 ],
 "metadata": {
  "kernelspec": {
   "display_name": "Python 3",
   "language": "python",
   "name": "python3"
  },
  "language_info": {
   "codemirror_mode": {
    "name": "ipython",
    "version": 3
   },
   "file_extension": ".py",
   "mimetype": "text/x-python",
   "name": "python",
   "nbconvert_exporter": "python",
   "pygments_lexer": "ipython3",
   "version": "3.7.4"
  }
 },
 "nbformat": 4,
 "nbformat_minor": 2
}
