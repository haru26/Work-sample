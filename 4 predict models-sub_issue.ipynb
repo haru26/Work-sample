{
 "cells": [
  {
   "cell_type": "code",
   "execution_count": 1,
   "metadata": {},
   "outputs": [],
   "source": [
    "import pandas as pd\n",
    "import gensim\n",
    "import gensim.corpora as corpora\n",
    "from nltk.stem import PorterStemmer\n",
    "from nltk.stem import WordNetLemmatizer\n",
    "from sklearn import datasets, linear_model\n",
    "from sklearn.model_selection import train_test_split\n",
    "import re\n",
    "from nltk.corpus import stopwords\n",
    "import numpy as np\n",
    "import seaborn as sns\n",
    "import matplotlib.pyplot as plt\n",
    "from nltk.tokenize import word_tokenize\n",
    "from nltk import FreqDist\n",
    "import spacy\n",
    "from string import punctuation"
   ]
  },
  {
   "cell_type": "code",
   "execution_count": 2,
   "metadata": {},
   "outputs": [],
   "source": [
    "my_stem = WordNetLemmatizer()\n",
    "stop_words = set(stopwords.words('english'))\n",
    "punctuation = punctuation + '\\n'"
   ]
  },
  {
   "cell_type": "markdown",
   "metadata": {},
   "source": [
    "# Import and clean data"
   ]
  },
  {
   "cell_type": "code",
   "execution_count": 3,
   "metadata": {},
   "outputs": [],
   "source": [
    "df = pd.read_csv('D:/loan_nar.csv')"
   ]
  },
  {
   "cell_type": "code",
   "execution_count": 4,
   "metadata": {},
   "outputs": [],
   "source": [
    "#clean the column names\n",
    "lis = []\n",
    "for name in df.columns:\n",
    "    name = re.sub('[^a-zA-Z0-9]+', \"_\", name)\n",
    "    lis.append(name)\n",
    "    \n",
    "df.columns = lis"
   ]
  },
  {
   "cell_type": "code",
   "execution_count": 5,
   "metadata": {},
   "outputs": [
    {
     "data": {
      "text/plain": [
       "(150676, 19)"
      ]
     },
     "execution_count": 5,
     "metadata": {},
     "output_type": "execute_result"
    }
   ],
   "source": [
    "df.shape"
   ]
  },
  {
   "cell_type": "code",
   "execution_count": 6,
   "metadata": {},
   "outputs": [],
   "source": [
    "df_loan = df[df['Issue'] == \"Incorrect information on your report\"]"
   ]
  },
  {
   "cell_type": "code",
   "execution_count": 7,
   "metadata": {},
   "outputs": [
    {
     "data": {
      "text/plain": [
       "Information belongs to someone else                    32365\n",
       "Account status incorrect                               14796\n",
       "Account information incorrect                          14466\n",
       "Old information reappears or never goes away            4195\n",
       "Personal information incorrect                          4068\n",
       "Public record information inaccurate                    3873\n",
       "Information is missing that should be on the report     1681\n",
       "Information is incorrect                                 298\n",
       "Information that should be on the report is missing       57\n",
       "Name: Sub_issue, dtype: int64"
      ]
     },
     "execution_count": 7,
     "metadata": {},
     "output_type": "execute_result"
    }
   ],
   "source": [
    "df_loan['Sub_issue'].value_counts()"
   ]
  },
  {
   "cell_type": "code",
   "execution_count": 8,
   "metadata": {},
   "outputs": [],
   "source": [
    "df_loan = df_loan[df_loan['Sub_issue'] != 'Information is incorrect']\n",
    "df_loan['Sub_issue'][df_loan['Sub_issue'] == 'Information that should be on the report is missing'] = \"Information is missing that should be on the report\""
   ]
  },
  {
   "cell_type": "code",
   "execution_count": 9,
   "metadata": {},
   "outputs": [
    {
     "data": {
      "text/plain": [
       "Information belongs to someone else                    32365\n",
       "Account status incorrect                               14796\n",
       "Account information incorrect                          14466\n",
       "Old information reappears or never goes away            4195\n",
       "Personal information incorrect                          4068\n",
       "Public record information inaccurate                    3873\n",
       "Information is missing that should be on the report     1738\n",
       "Name: Sub_issue, dtype: int64"
      ]
     },
     "execution_count": 9,
     "metadata": {},
     "output_type": "execute_result"
    }
   ],
   "source": [
    "df_loan['Sub_issue'].value_counts()"
   ]
  },
  {
   "cell_type": "code",
   "execution_count": 10,
   "metadata": {},
   "outputs": [
    {
     "data": {
      "text/plain": [
       "(75502, 19)"
      ]
     },
     "execution_count": 10,
     "metadata": {},
     "output_type": "execute_result"
    }
   ],
   "source": [
    "df_loan.shape"
   ]
  },
  {
   "cell_type": "code",
   "execution_count": 11,
   "metadata": {},
   "outputs": [],
   "source": [
    "df_loan = df_loan[df_loan['Sub_issue'].notna()]"
   ]
  },
  {
   "cell_type": "code",
   "execution_count": 12,
   "metadata": {},
   "outputs": [
    {
     "data": {
      "text/plain": [
       "(75501, 19)"
      ]
     },
     "execution_count": 12,
     "metadata": {},
     "output_type": "execute_result"
    }
   ],
   "source": [
    "df_loan.shape"
   ]
  },
  {
   "cell_type": "code",
   "execution_count": 13,
   "metadata": {},
   "outputs": [],
   "source": [
    "df_loan_sample, df_drop_it = train_test_split(df_loan, train_size =0.3, stratify=df_loan['Sub_issue'])"
   ]
  },
  {
   "cell_type": "code",
   "execution_count": 14,
   "metadata": {},
   "outputs": [],
   "source": [
    "df_clean = pd.DataFrame()\n",
    "\n",
    "for x in df_loan_sample.Consumer_complaint_narrative:\n",
    "    x_clean = re.sub('[^a-zA-Z]+', ' ', x)\n",
    "    x_clean = re.sub('XXXX', '', x_clean)\n",
    "    x_clean = re.sub('XX/XX', \"\", x_clean)\n",
    "    x_clean = re.sub('XX/XX/', \"\", x_clean)\n",
    "    x_clean = re.sub('XXX', \"\", x_clean)\n",
    "    x_clean = re.sub('XX', \"\", x_clean)\n",
    "    text = [word.lower() for word in x_clean.split()]\n",
    "    text = [word for word in text if word not in stop_words]\n",
    "    long_words=[]\n",
    "    for i in text:\n",
    "        if len(i)>1:                    \n",
    "            long_words.append(i)   \n",
    "    text = [my_stem.lemmatize(word) for word in long_words]\n",
    "    join = \" \".join(text)\n",
    "    df_clean = df_clean.append({\"body_stem\" : text, \"body\" : join}, ignore_index=True)"
   ]
  },
  {
   "cell_type": "code",
   "execution_count": 15,
   "metadata": {},
   "outputs": [
    {
     "data": {
      "text/html": [
       "<div>\n",
       "<style scoped>\n",
       "    .dataframe tbody tr th:only-of-type {\n",
       "        vertical-align: middle;\n",
       "    }\n",
       "\n",
       "    .dataframe tbody tr th {\n",
       "        vertical-align: top;\n",
       "    }\n",
       "\n",
       "    .dataframe thead th {\n",
       "        text-align: right;\n",
       "    }\n",
       "</style>\n",
       "<table border=\"1\" class=\"dataframe\">\n",
       "  <thead>\n",
       "    <tr style=\"text-align: right;\">\n",
       "      <th></th>\n",
       "      <th>body</th>\n",
       "      <th>body_stem</th>\n",
       "      <th>sub_issue</th>\n",
       "      <th>timely_response</th>\n",
       "      <th>issue</th>\n",
       "      <th>sub_product</th>\n",
       "    </tr>\n",
       "  </thead>\n",
       "  <tbody>\n",
       "    <tr>\n",
       "      <td>0</td>\n",
       "      <td>another issue northern trust co trust account ...</td>\n",
       "      <td>[another, issue, northern, trust, co, trust, a...</td>\n",
       "      <td>Information belongs to someone else</td>\n",
       "      <td>Yes</td>\n",
       "      <td>Incorrect information on your report</td>\n",
       "      <td>Other personal consumer report</td>\n",
       "    </tr>\n",
       "    <tr>\n",
       "      <td>1</td>\n",
       "      <td>submitted complaint general motor financial co...</td>\n",
       "      <td>[submitted, complaint, general, motor, financi...</td>\n",
       "      <td>Information belongs to someone else</td>\n",
       "      <td>Yes</td>\n",
       "      <td>Incorrect information on your report</td>\n",
       "      <td>Credit reporting</td>\n",
       "    </tr>\n",
       "    <tr>\n",
       "      <td>2</td>\n",
       "      <td>block except otherwise provided section consum...</td>\n",
       "      <td>[block, except, otherwise, provided, section, ...</td>\n",
       "      <td>Information belongs to someone else</td>\n",
       "      <td>Yes</td>\n",
       "      <td>Incorrect information on your report</td>\n",
       "      <td>Credit reporting</td>\n",
       "    </tr>\n",
       "    <tr>\n",
       "      <td>3</td>\n",
       "      <td>reporting late day late number came completely...</td>\n",
       "      <td>[reporting, late, day, late, number, came, com...</td>\n",
       "      <td>Account status incorrect</td>\n",
       "      <td>Yes</td>\n",
       "      <td>Incorrect information on your report</td>\n",
       "      <td>Credit reporting</td>\n",
       "    </tr>\n",
       "    <tr>\n",
       "      <td>4</td>\n",
       "      <td>called creditor agreed remove account profile ...</td>\n",
       "      <td>[called, creditor, agreed, remove, account, pr...</td>\n",
       "      <td>Information belongs to someone else</td>\n",
       "      <td>Yes</td>\n",
       "      <td>Incorrect information on your report</td>\n",
       "      <td>Credit reporting</td>\n",
       "    </tr>\n",
       "  </tbody>\n",
       "</table>\n",
       "</div>"
      ],
      "text/plain": [
       "                                                body  \\\n",
       "0  another issue northern trust co trust account ...   \n",
       "1  submitted complaint general motor financial co...   \n",
       "2  block except otherwise provided section consum...   \n",
       "3  reporting late day late number came completely...   \n",
       "4  called creditor agreed remove account profile ...   \n",
       "\n",
       "                                           body_stem  \\\n",
       "0  [another, issue, northern, trust, co, trust, a...   \n",
       "1  [submitted, complaint, general, motor, financi...   \n",
       "2  [block, except, otherwise, provided, section, ...   \n",
       "3  [reporting, late, day, late, number, came, com...   \n",
       "4  [called, creditor, agreed, remove, account, pr...   \n",
       "\n",
       "                             sub_issue timely_response  \\\n",
       "0  Information belongs to someone else             Yes   \n",
       "1  Information belongs to someone else             Yes   \n",
       "2  Information belongs to someone else             Yes   \n",
       "3             Account status incorrect             Yes   \n",
       "4  Information belongs to someone else             Yes   \n",
       "\n",
       "                                  issue                     sub_product  \n",
       "0  Incorrect information on your report  Other personal consumer report  \n",
       "1  Incorrect information on your report                Credit reporting  \n",
       "2  Incorrect information on your report                Credit reporting  \n",
       "3  Incorrect information on your report                Credit reporting  \n",
       "4  Incorrect information on your report                Credit reporting  "
      ]
     },
     "execution_count": 15,
     "metadata": {},
     "output_type": "execute_result"
    }
   ],
   "source": [
    "df_clean['sub_issue'] = list(df_loan_sample.Sub_issue)\n",
    "df_clean['timely_response'] = list(df_loan_sample.Timely_response_)\n",
    "df_clean['issue'] = list(df_loan_sample.Issue)\n",
    "df_clean['sub_product'] = list(df_loan_sample.Sub_product)\n",
    "df_clean.head()"
   ]
  },
  {
   "cell_type": "code",
   "execution_count": 16,
   "metadata": {},
   "outputs": [
    {
     "data": {
      "text/plain": [
       "(22650, 6)"
      ]
     },
     "execution_count": 16,
     "metadata": {},
     "output_type": "execute_result"
    }
   ],
   "source": [
    "df_clean.shape"
   ]
  },
  {
   "cell_type": "markdown",
   "metadata": {},
   "source": [
    "# Logit model"
   ]
  },
  {
   "cell_type": "code",
   "execution_count": 17,
   "metadata": {},
   "outputs": [],
   "source": [
    "from sklearn import model_selection, preprocessing, linear_model, naive_bayes, metrics, svm\n",
    "from sklearn.naive_bayes import MultinomialNB\n",
    "from sklearn.linear_model import LogisticRegression\n",
    "from sklearn.ensemble import RandomForestClassifier\n",
    "from sklearn.svm import LinearSVC\n",
    "from sklearn.feature_extraction.text import TfidfVectorizer\n",
    "import sklearn.feature_extraction.text as text\n",
    "from sklearn.model_selection import GridSearchCV\n",
    "from sklearn.metrics import confusion_matrix"
   ]
  },
  {
   "cell_type": "code",
   "execution_count": 18,
   "metadata": {},
   "outputs": [
    {
     "name": "stderr",
     "output_type": "stream",
     "text": [
      "Using TensorFlow backend.\n"
     ]
    }
   ],
   "source": [
    "from sklearn.datasets import make_classification\n",
    "from imblearn.over_sampling import SVMSMOTE\n",
    "from collections import Counter"
   ]
  },
  {
   "cell_type": "code",
   "execution_count": 19,
   "metadata": {},
   "outputs": [],
   "source": [
    "tfidf_vect = TfidfVectorizer() #analyzer='word', token_pattern=r'\\w{1,}', max_features=5000\n",
    "tfidf_vect.fit(df_clean.body) \n",
    "x = tfidf_vect.transform(df_clean.body)"
   ]
  },
  {
   "cell_type": "code",
   "execution_count": 20,
   "metadata": {},
   "outputs": [],
   "source": [
    "enc = preprocessing.LabelEncoder() \n",
    "y = enc.fit_transform(df_clean.sub_issue)"
   ]
  },
  {
   "cell_type": "code",
   "execution_count": 21,
   "metadata": {},
   "outputs": [
    {
     "name": "stdout",
     "output_type": "stream",
     "text": [
      "['Account information incorrect' 'Account status incorrect'\n",
      " 'Information belongs to someone else'\n",
      " 'Information is missing that should be on the report'\n",
      " 'Old information reappears or never goes away'\n",
      " 'Personal information incorrect' 'Public record information inaccurate']\n"
     ]
    }
   ],
   "source": [
    "print(enc.classes_)"
   ]
  },
  {
   "cell_type": "code",
   "execution_count": 22,
   "metadata": {},
   "outputs": [],
   "source": [
    "oversample = SVMSMOTE()\n",
    "X, Y = oversample.fit_resample(x, y)"
   ]
  },
  {
   "cell_type": "code",
   "execution_count": 23,
   "metadata": {},
   "outputs": [],
   "source": [
    "x_train, x_test, y_train, y_test = train_test_split(X, Y, test_size=0.2,random_state=0,shuffle=True)"
   ]
  },
  {
   "cell_type": "code",
   "execution_count": 24,
   "metadata": {},
   "outputs": [
    {
     "name": "stdout",
     "output_type": "stream",
     "text": [
      "Counter({2: 9709, 1: 9709, 0: 9709, 5: 9709, 4: 9709, 6: 9709, 3: 9709})\n"
     ]
    }
   ],
   "source": [
    "counter = Counter(Y)\n",
    "print(counter)"
   ]
  },
  {
   "cell_type": "code",
   "execution_count": 25,
   "metadata": {},
   "outputs": [
    {
     "name": "stderr",
     "output_type": "stream",
     "text": [
      "C:\\Users\\licor\\AppData\\Local\\Continuum\\anaconda3\\lib\\site-packages\\sklearn\\linear_model\\_logistic.py:940: ConvergenceWarning: lbfgs failed to converge (status=1):\n",
      "STOP: TOTAL NO. of ITERATIONS REACHED LIMIT.\n",
      "\n",
      "Increase the number of iterations (max_iter) or scale the data as shown in:\n",
      "    https://scikit-learn.org/stable/modules/preprocessing.html\n",
      "Please also refer to the documentation for alternative solver options:\n",
      "    https://scikit-learn.org/stable/modules/linear_model.html#logistic-regression\n",
      "  extra_warning_msg=_LOGISTIC_SOLVER_CONVERGENCE_MSG)\n"
     ]
    },
    {
     "data": {
      "text/plain": [
       "GridSearchCV(cv=5, error_score=nan,\n",
       "             estimator=LogisticRegression(C=1.0, class_weight=None, dual=False,\n",
       "                                          fit_intercept=True,\n",
       "                                          intercept_scaling=1, l1_ratio=None,\n",
       "                                          max_iter=100, multi_class='auto',\n",
       "                                          n_jobs=None, penalty='l2',\n",
       "                                          random_state=None, solver='lbfgs',\n",
       "                                          tol=0.0001, verbose=0,\n",
       "                                          warm_start=False),\n",
       "             iid='deprecated', n_jobs=-1,\n",
       "             param_grid={'C': [1, 2, 3, 4, 5, 6, 7, 8, 9, 10]},\n",
       "             pre_dispatch='2*n_jobs', refit=True, return_train_score=False,\n",
       "             scoring=None, verbose=0)"
      ]
     },
     "execution_count": 25,
     "metadata": {},
     "output_type": "execute_result"
    }
   ],
   "source": [
    "model = LogisticRegression()\n",
    "lr_params = {'C':[int(x) for x in np.linspace(1,10,10)]}\n",
    "model_lr = GridSearchCV(estimator=model, param_grid=lr_params, cv=5, n_jobs=-1)\n",
    "model_lr.fit(x_train, y_train)"
   ]
  },
  {
   "cell_type": "code",
   "execution_count": 26,
   "metadata": {},
   "outputs": [
    {
     "name": "stdout",
     "output_type": "stream",
     "text": [
      "{'C': 10}\n",
      "0.8860768806327017\n"
     ]
    }
   ],
   "source": [
    "print(model_lr.best_params_)\n",
    "print(model_lr.best_score_)"
   ]
  },
  {
   "cell_type": "code",
   "execution_count": 27,
   "metadata": {},
   "outputs": [
    {
     "name": "stderr",
     "output_type": "stream",
     "text": [
      "C:\\Users\\licor\\AppData\\Local\\Continuum\\anaconda3\\lib\\site-packages\\sklearn\\linear_model\\_logistic.py:940: ConvergenceWarning: lbfgs failed to converge (status=1):\n",
      "STOP: TOTAL NO. of ITERATIONS REACHED LIMIT.\n",
      "\n",
      "Increase the number of iterations (max_iter) or scale the data as shown in:\n",
      "    https://scikit-learn.org/stable/modules/preprocessing.html\n",
      "Please also refer to the documentation for alternative solver options:\n",
      "    https://scikit-learn.org/stable/modules/linear_model.html#logistic-regression\n",
      "  extra_warning_msg=_LOGISTIC_SOLVER_CONVERGENCE_MSG)\n"
     ]
    },
    {
     "data": {
      "text/plain": [
       "LogisticRegression(C=10, class_weight=None, dual=False, fit_intercept=True,\n",
       "                   intercept_scaling=1, l1_ratio=None, max_iter=100,\n",
       "                   multi_class='auto', n_jobs=None, penalty='l2',\n",
       "                   random_state=None, solver='lbfgs', tol=0.0001, verbose=0,\n",
       "                   warm_start=False)"
      ]
     },
     "execution_count": 27,
     "metadata": {},
     "output_type": "execute_result"
    }
   ],
   "source": [
    "final_lr = LogisticRegression(C=10)\n",
    "final_lr.fit(x_train, y_train)"
   ]
  },
  {
   "cell_type": "code",
   "execution_count": 28,
   "metadata": {},
   "outputs": [
    {
     "name": "stdout",
     "output_type": "stream",
     "text": [
      "Logistic Regression > Accuracy:  0.8894283822555727\n"
     ]
    }
   ],
   "source": [
    "final_lr_predict = final_lr.predict(x_test)\n",
    "lr_accuracy = metrics.accuracy_score(final_lr_predict, y_test)\n",
    "print (\"Logistic Regression > Accuracy: \", lr_accuracy)"
   ]
  },
  {
   "cell_type": "code",
   "execution_count": 29,
   "metadata": {},
   "outputs": [
    {
     "data": {
      "image/png": "[encoded data removed]",
      "text/plain": [
       "<Figure size 576x432 with 2 Axes>"
      ]
     },
     "metadata": {
      "needs_background": "light"
     },
     "output_type": "display_data"
    }
   ],
   "source": [
    "conf_mat = confusion_matrix(y_test, final_lr_predict)\n",
    "fig, ax = plt.subplots(figsize = (8,6))\n",
    "sns.heatmap(conf_mat, annot = True, fmt = \"d\", cmap = \"BuPu\",xticklabels = df_clean['sub_issue'].unique(),yticklabels = df_clean['sub_issue'].unique())\n",
    "plt.ylabel('Actual')\n",
    "plt.xlabel('Predicted')\n",
    "plt.show()"
   ]
  },
  {
   "cell_type": "code",
   "execution_count": 30,
   "metadata": {},
   "outputs": [
    {
     "name": "stdout",
     "output_type": "stream",
     "text": [
      "                                                     precision    recall  f1-score   support\n",
      "\n",
      "                Information belongs to someone else       0.76      0.77      0.77      1939\n",
      "                           Account status incorrect       0.80      0.78      0.79      1935\n",
      "                      Account information incorrect       0.84      0.83      0.84      1851\n",
      "                     Personal information incorrect       0.96      0.97      0.97      1965\n",
      "       Old information reappears or never goes away       0.94      0.92      0.93      1978\n",
      "               Public record information inaccurate       0.96      0.97      0.97      1906\n",
      "Information is missing that should be on the report       0.95      0.97      0.96      2019\n",
      "\n",
      "                                           accuracy                           0.89     13593\n",
      "                                          macro avg       0.89      0.89      0.89     13593\n",
      "                                       weighted avg       0.89      0.89      0.89     13593\n",
      "\n"
     ]
    }
   ],
   "source": [
    "import sklearn\n",
    "from sklearn.metrics import precision_recall_fscore_support as score\n",
    "print(sklearn.metrics.classification_report(y_test, final_lr_predict.round(),target_names=df_clean['sub_issue'].unique()))"
   ]
  },
  {
   "cell_type": "markdown",
   "metadata": {},
   "source": [
    "# SVM"
   ]
  },
  {
   "cell_type": "code",
   "execution_count": 31,
   "metadata": {},
   "outputs": [
    {
     "data": {
      "text/plain": [
       "GridSearchCV(cv=5, error_score=nan,\n",
       "             estimator=LinearSVC(C=1.0, class_weight=None, dual=True,\n",
       "                                 fit_intercept=True, intercept_scaling=1,\n",
       "                                 loss='squared_hinge', max_iter=1000,\n",
       "                                 multi_class='ovr', penalty='l2',\n",
       "                                 random_state=None, tol=0.0001, verbose=0),\n",
       "             iid='deprecated', n_jobs=-1,\n",
       "             param_grid={'C': [0.01, 0.1, 1, 10, 100]}, pre_dispatch='2*n_jobs',\n",
       "             refit=True, return_train_score=False, scoring=None, verbose=0)"
      ]
     },
     "execution_count": 31,
     "metadata": {},
     "output_type": "execute_result"
    }
   ],
   "source": [
    "model1 = LinearSVC()\n",
    "svc_params = {'C':[0.01,0.1, 1, 10, 100]}\n",
    "model_svc = GridSearchCV(estimator = model1,param_grid = svc_params, cv = 5, n_jobs = -1)\n",
    "model_svc.fit(x_train, y_train)"
   ]
  },
  {
   "cell_type": "code",
   "execution_count": 32,
   "metadata": {},
   "outputs": [
    {
     "name": "stdout",
     "output_type": "stream",
     "text": [
      "{'C': 10}\n",
      "0.9074857458157073\n"
     ]
    }
   ],
   "source": [
    "print(model_svc.best_params_)\n",
    "print(model_svc.best_score_)"
   ]
  },
  {
   "cell_type": "code",
   "execution_count": 33,
   "metadata": {},
   "outputs": [
    {
     "data": {
      "text/plain": [
       "LinearSVC(C=10, class_weight=None, dual=True, fit_intercept=True,\n",
       "          intercept_scaling=1, loss='squared_hinge', max_iter=1000,\n",
       "          multi_class='ovr', penalty='l2', random_state=None, tol=0.0001,\n",
       "          verbose=0)"
      ]
     },
     "execution_count": 33,
     "metadata": {},
     "output_type": "execute_result"
    }
   ],
   "source": [
    "final_svc = LinearSVC(C = 10)\n",
    "final_svc.fit(x_train, y_train)"
   ]
  },
  {
   "cell_type": "code",
   "execution_count": 34,
   "metadata": {},
   "outputs": [
    {
     "name": "stdout",
     "output_type": "stream",
     "text": [
      "SVC-Accuracy:  0.9201059368792761\n"
     ]
    }
   ],
   "source": [
    "final_svc_predict = final_svc.predict(x_test)\n",
    "svc_accuracy = metrics.accuracy_score(final_svc_predict, y_test)\n",
    "print (\"SVC-Accuracy: \", svc_accuracy)"
   ]
  },
  {
   "cell_type": "code",
   "execution_count": 35,
   "metadata": {},
   "outputs": [
    {
     "data": {
      "image/png": "[encoded data removed]",
      "text/plain": [
       "<Figure size 576x432 with 2 Axes>"
      ]
     },
     "metadata": {
      "needs_background": "light"
     },
     "output_type": "display_data"
    }
   ],
   "source": [
    "conf_mat = confusion_matrix(y_test, final_svc_predict)\n",
    "fig, ax = plt.subplots(figsize = (8,6))\n",
    "sns.heatmap(conf_mat, annot = True, fmt = \"d\", cmap = \"BuPu\",xticklabels = df_clean['sub_issue'].unique(),yticklabels = df_clean['sub_issue'].unique())\n",
    "plt.ylabel('Actual')\n",
    "plt.xlabel('Predicted')\n",
    "plt.show()"
   ]
  },
  {
   "cell_type": "code",
   "execution_count": 36,
   "metadata": {},
   "outputs": [
    {
     "name": "stdout",
     "output_type": "stream",
     "text": [
      "                                                     precision    recall  f1-score   support\n",
      "\n",
      "                Information belongs to someone else       0.84      0.85      0.84      1939\n",
      "                           Account status incorrect       0.87      0.84      0.86      1935\n",
      "                      Account information incorrect       0.87      0.83      0.85      1851\n",
      "                     Personal information incorrect       0.97      0.99      0.98      1965\n",
      "       Old information reappears or never goes away       0.95      0.95      0.95      1978\n",
      "               Public record information inaccurate       0.97      0.98      0.97      1906\n",
      "Information is missing that should be on the report       0.97      0.98      0.97      2019\n",
      "\n",
      "                                           accuracy                           0.92     13593\n",
      "                                          macro avg       0.92      0.92      0.92     13593\n",
      "                                       weighted avg       0.92      0.92      0.92     13593\n",
      "\n"
     ]
    }
   ],
   "source": [
    "import sklearn\n",
    "from sklearn.metrics import precision_recall_fscore_support as score\n",
    "print(sklearn.metrics.classification_report(y_test, final_svc_predict.round(),target_names=df_clean['sub_issue'].unique()))"
   ]
  },
  {
   "cell_type": "markdown",
   "metadata": {},
   "source": [
    "# Pre-trained word embeddings"
   ]
  },
  {
   "cell_type": "code",
   "execution_count": 37,
   "metadata": {},
   "outputs": [],
   "source": [
    "x_train, x_test, y_train, y_test = train_test_split(df_clean.body, df_clean.sub_issue, test_size=0.25,random_state=0,shuffle=True)"
   ]
  },
  {
   "cell_type": "code",
   "execution_count": 38,
   "metadata": {},
   "outputs": [
    {
     "name": "stdout",
     "output_type": "stream",
     "text": [
      "[[1. 0. 0. ... 0. 0. 0.]\n",
      " [0. 0. 1. ... 0. 0. 0.]\n",
      " [0. 0. 0. ... 1. 0. 0.]\n",
      " ...\n",
      " [0. 1. 0. ... 0. 0. 0.]\n",
      " [0. 0. 0. ... 0. 0. 0.]\n",
      " [0. 0. 1. ... 0. 0. 0.]]\n"
     ]
    }
   ],
   "source": [
    "import numpy as np\n",
    "from numpy import array\n",
    "from numpy import argmax\n",
    "from sklearn.preprocessing import LabelEncoder\n",
    "from sklearn.preprocessing import OneHotEncoder\n",
    "\n",
    "values = array(y_train)\n",
    "label_encoder = LabelEncoder()\n",
    "integer_encoded = label_encoder.fit_transform(values)\n",
    "onehot_encoder = OneHotEncoder(sparse=False)\n",
    "integer_encoded = integer_encoded.reshape(len(integer_encoded), 1)\n",
    "y_encoded = onehot_encoder.fit_transform(integer_encoded)\n",
    "print(y_encoded)"
   ]
  },
  {
   "cell_type": "code",
   "execution_count": 39,
   "metadata": {},
   "outputs": [
    {
     "name": "stdout",
     "output_type": "stream",
     "text": [
      "[[0. 0. 1. ... 0. 0. 0.]\n",
      " [1. 0. 0. ... 0. 0. 0.]\n",
      " [1. 0. 0. ... 0. 0. 0.]\n",
      " ...\n",
      " [0. 1. 0. ... 0. 0. 0.]\n",
      " [0. 0. 1. ... 0. 0. 0.]\n",
      " [0. 0. 1. ... 0. 0. 0.]]\n"
     ]
    }
   ],
   "source": [
    "values_0 = array(y_test)\n",
    "label_encoder = LabelEncoder()\n",
    "integer_encoded = label_encoder.fit_transform(values_0)\n",
    "onehot_encoder = OneHotEncoder(sparse=False)\n",
    "integer_encoded = integer_encoded.reshape(len(integer_encoded), 1)\n",
    "y_encoded_test = onehot_encoder.fit_transform(integer_encoded)\n",
    "print(y_encoded_test)"
   ]
  },
  {
   "cell_type": "code",
   "execution_count": 40,
   "metadata": {},
   "outputs": [
    {
     "data": {
      "text/plain": [
       "14259"
      ]
     },
     "execution_count": 40,
     "metadata": {},
     "output_type": "execute_result"
    }
   ],
   "source": [
    "all_words=' '.join(x_train)\n",
    "all_words=word_tokenize(all_words)\n",
    "\n",
    "dist=FreqDist(all_words)\n",
    "\n",
    "num_unique_word=len(dist)\n",
    "num_unique_word"
   ]
  },
  {
   "cell_type": "code",
   "execution_count": 41,
   "metadata": {},
   "outputs": [],
   "source": [
    "from keras.preprocessing.text import Tokenizer\n",
    "from keras.preprocessing.sequence import pad_sequences\n",
    "\n",
    "tokenizer = Tokenizer(num_words=num_unique_word) \n",
    "tokenizer.fit_on_texts(x_train)\n",
    "\n",
    "x_train_tokens = tokenizer.texts_to_sequences(x_train)\n",
    "x_test_tokens = tokenizer.texts_to_sequences(x_test)"
   ]
  },
  {
   "cell_type": "code",
   "execution_count": 42,
   "metadata": {},
   "outputs": [
    {
     "data": {
      "text/plain": [
       "2635"
      ]
     },
     "execution_count": 42,
     "metadata": {},
     "output_type": "execute_result"
    }
   ],
   "source": [
    "num_tokens = [len(tokens) for tokens in x_train_tokens]\n",
    "num_tokens = np.array(num_tokens)\n",
    "np.max(num_tokens)"
   ]
  },
  {
   "cell_type": "code",
   "execution_count": 43,
   "metadata": {},
   "outputs": [
    {
     "data": {
      "text/plain": [
       "254"
      ]
     },
     "execution_count": 43,
     "metadata": {},
     "output_type": "execute_result"
    }
   ],
   "source": [
    "max_tokens = np.mean(num_tokens) + 2 * np.std(num_tokens)\n",
    "max_tokens = int(max_tokens)\n",
    "max_tokens"
   ]
  },
  {
   "cell_type": "code",
   "execution_count": 44,
   "metadata": {},
   "outputs": [
    {
     "data": {
      "text/plain": [
       "0.9604403367280862"
      ]
     },
     "execution_count": 44,
     "metadata": {},
     "output_type": "execute_result"
    }
   ],
   "source": [
    "#This covers about 96% of the data-set.\n",
    "np.sum(num_tokens < max_tokens) / len(num_tokens)"
   ]
  },
  {
   "cell_type": "code",
   "execution_count": 45,
   "metadata": {},
   "outputs": [],
   "source": [
    "pad = 'pre'\n",
    "x_train_pad = pad_sequences(x_train_tokens, maxlen=max_tokens,padding=pad, truncating=pad)\n",
    "x_test_pad = pad_sequences(x_test_tokens, maxlen=max_tokens,padding=pad, truncating=pad)"
   ]
  },
  {
   "cell_type": "code",
   "execution_count": 46,
   "metadata": {},
   "outputs": [
    {
     "name": "stdout",
     "output_type": "stream",
     "text": [
      "Shape of x train: (16987, 254)\n",
      "Shape of t train: (16987, 7)\n"
     ]
    }
   ],
   "source": [
    "print('Shape of x train:', x_train_pad.shape)\n",
    "print('Shape of t train:', y_encoded.shape)"
   ]
  },
  {
   "cell_type": "code",
   "execution_count": 47,
   "metadata": {},
   "outputs": [
    {
     "name": "stdout",
     "output_type": "stream",
     "text": [
      "Shape of x train: (5663, 254)\n",
      "Shape of t train: (5663, 7)\n"
     ]
    }
   ],
   "source": [
    "print('Shape of x train:', x_test_pad.shape)\n",
    "print('Shape of t train:', y_encoded_test.shape)"
   ]
  },
  {
   "cell_type": "code",
   "execution_count": 48,
   "metadata": {},
   "outputs": [],
   "source": [
    "import os\n",
    "from keras.utils import to_categorical\n",
    "from tensorflow.keras.layers import Input, RepeatVector\n",
    "from keras.layers import Dense, Input, LSTM, Embedding, Dropout, Activation\n",
    "from keras.layers import Bidirectional, GlobalMaxPool1D, Conv1D, SimpleRNN\n",
    "from keras.models import Model\n",
    "from keras.models import Sequential\n",
    "from tensorflow.keras.callbacks import EarlyStopping\n",
    "from keras import initializers, regularizers, constraints, optimizers, layers\n",
    "from keras.layers import Dense, Input, Flatten, Dropout, BatchNormalization\n",
    "from keras.layers import Conv1D, MaxPooling1D, Embedding\n",
    "from keras.models import Sequential\n",
    "from tensorflow.keras.callbacks import EarlyStopping"
   ]
  },
  {
   "cell_type": "code",
   "execution_count": 49,
   "metadata": {},
   "outputs": [],
   "source": [
    "GLOVE_DIR = 'C:/Users/licor/OneDrive/Desktop/qmss/glove/glove.6B.100d.txt'\n",
    "embeddings_index = {}\n",
    "f = open(os.path.join(GLOVE_DIR), encoding=\"utf8\")"
   ]
  },
  {
   "cell_type": "code",
   "execution_count": 50,
   "metadata": {},
   "outputs": [
    {
     "name": "stdout",
     "output_type": "stream",
     "text": [
      "Found 400000 word vectors.\n"
     ]
    }
   ],
   "source": [
    "for line in f:\n",
    "    values = line.split()\n",
    "    word = values[0]\n",
    "    coefs = np.asarray(values[1:], dtype='float32')\n",
    "    embeddings_index[word] = coefs\n",
    "f.close()\n",
    "\n",
    "print('Found %s word vectors.' % len(embeddings_index))"
   ]
  },
  {
   "cell_type": "code",
   "execution_count": 53,
   "metadata": {},
   "outputs": [],
   "source": [
    "word_index = tokenizer.word_index\n",
    "EMBEDDING_DIM = 100\n",
    "embedding_matrix = np.zeros((len(word_index) + 1, EMBEDDING_DIM))\n",
    "for word, i in word_index.items():\n",
    "    embedding_vector = embeddings_index.get(word)\n",
    "    if embedding_vector is not None:\n",
    "        embedding_matrix[i] = embedding_vector"
   ]
  },
  {
   "cell_type": "code",
   "execution_count": 54,
   "metadata": {},
   "outputs": [
    {
     "data": {
      "text/plain": [
       "(14259, 100)"
      ]
     },
     "execution_count": 54,
     "metadata": {},
     "output_type": "execute_result"
    }
   ],
   "source": [
    "embedding_matrix.shape"
   ]
  },
  {
   "cell_type": "code",
   "execution_count": 55,
   "metadata": {},
   "outputs": [],
   "source": [
    "model = Sequential()\n",
    "model.add(Embedding(len(word_index) + 1,\n",
    "                            EMBEDDING_DIM,\n",
    "                            weights=[embedding_matrix],\n",
    "                            input_length=max_tokens,\n",
    "                            trainable=True))\n",
    "model.add(Dropout(0.3))\n",
    "model.add(Conv1D(128, 5, activation=\"relu\"))\n",
    "model.add(MaxPooling1D(5))\n",
    "model.add(Dropout(0.3))\n",
    "model.add(BatchNormalization())\n",
    "model.add(Conv1D(128, 5, activation=\"relu\"))\n",
    "model.add(MaxPooling1D(5))\n",
    "model.add(Dropout(0.3))\n",
    "model.add(BatchNormalization())\n",
    "model.add(Flatten())\n",
    "model.add(Dense(128, activation=\"relu\"))\n",
    "model.add(Dense(7, activation=\"softmax\"))\n",
    "model.compile(loss='categorical_crossentropy',\n",
    " optimizer=\"rmsprop\",\n",
    " metrics=['acc'])"
   ]
  },
  {
   "cell_type": "code",
   "execution_count": 56,
   "metadata": {},
   "outputs": [
    {
     "name": "stdout",
     "output_type": "stream",
     "text": [
      "Model: \"sequential_1\"\n",
      "_________________________________________________________________\n",
      "Layer (type)                 Output Shape              Param #   \n",
      "=================================================================\n",
      "embedding_1 (Embedding)      (None, 254, 100)          1425900   \n",
      "_________________________________________________________________\n",
      "dropout_1 (Dropout)          (None, 254, 100)          0         \n",
      "_________________________________________________________________\n",
      "conv1d_1 (Conv1D)            (None, 250, 128)          64128     \n",
      "_________________________________________________________________\n",
      "max_pooling1d_1 (MaxPooling1 (None, 50, 128)           0         \n",
      "_________________________________________________________________\n",
      "dropout_2 (Dropout)          (None, 50, 128)           0         \n",
      "_________________________________________________________________\n",
      "batch_normalization_1 (Batch (None, 50, 128)           512       \n",
      "_________________________________________________________________\n",
      "conv1d_2 (Conv1D)            (None, 46, 128)           82048     \n",
      "_________________________________________________________________\n",
      "max_pooling1d_2 (MaxPooling1 (None, 9, 128)            0         \n",
      "_________________________________________________________________\n",
      "dropout_3 (Dropout)          (None, 9, 128)            0         \n",
      "_________________________________________________________________\n",
      "batch_normalization_2 (Batch (None, 9, 128)            512       \n",
      "_________________________________________________________________\n",
      "flatten_1 (Flatten)          (None, 1152)              0         \n",
      "_________________________________________________________________\n",
      "dense_1 (Dense)              (None, 128)               147584    \n",
      "_________________________________________________________________\n",
      "dense_2 (Dense)              (None, 7)                 903       \n",
      "=================================================================\n",
      "Total params: 1,721,587\n",
      "Trainable params: 1,721,075\n",
      "Non-trainable params: 512\n",
      "_________________________________________________________________\n"
     ]
    }
   ],
   "source": [
    "model.summary()"
   ]
  },
  {
   "cell_type": "code",
   "execution_count": 59,
   "metadata": {},
   "outputs": [
    {
     "data": {
      "text/plain": [
       "array([ 2.22171254,  2.18037215,  1.        , 18.82124352,  7.74520256,\n",
       "        8.09921962,  8.08120133])"
      ]
     },
     "execution_count": 59,
     "metadata": {},
     "output_type": "execute_result"
    }
   ],
   "source": [
    "7265/sum(y_encoded)"
   ]
  },
  {
   "cell_type": "markdown",
   "metadata": {},
   "source": [
    "es = EarlyStopping(monitor='val_loss', mode='min', verbose=1)"
   ]
  },
  {
   "cell_type": "code",
   "execution_count": 60,
   "metadata": {},
   "outputs": [],
   "source": [
    "class_weight = {0 : 2.24732184, 1 : 2.16270731, 2 : 1., 3 : 19.1468254, 4 : 7.5390625, 5 : 7.78225806, 6 : 8.39130435}"
   ]
  },
  {
   "cell_type": "code",
   "execution_count": 61,
   "metadata": {},
   "outputs": [
    {
     "name": "stderr",
     "output_type": "stream",
     "text": [
      "C:\\Users\\licor\\AppData\\Local\\Continuum\\anaconda3\\lib\\site-packages\\tensorflow_core\\python\\framework\\indexed_slices.py:424: UserWarning: Converting sparse IndexedSlices to a dense Tensor of unknown shape. This may consume a large amount of memory.\n",
      "  \"Converting sparse IndexedSlices to a dense Tensor of unknown shape. \"\n"
     ]
    },
    {
     "name": "stdout",
     "output_type": "stream",
     "text": [
      "Train on 15288 samples, validate on 1699 samples\n",
      "Epoch 1/10\n",
      "15288/15288 [==============================] - 33s 2ms/step - loss: 6.0528 - acc: 0.2174 - val_loss: 4.9906 - val_acc: 0.1948\n",
      "Epoch 2/10\n",
      "15288/15288 [==============================] - 34s 2ms/step - loss: 4.7980 - acc: 0.3814 - val_loss: 4.4339 - val_acc: 0.3390\n",
      "Epoch 3/10\n",
      "15288/15288 [==============================] - 34s 2ms/step - loss: 4.4503 - acc: 0.4259 - val_loss: 4.5366 - val_acc: 0.3131\n",
      "Epoch 4/10\n",
      "15288/15288 [==============================] - 35s 2ms/step - loss: 4.2439 - acc: 0.4557 - val_loss: 4.7011 - val_acc: 0.3614\n",
      "Epoch 5/10\n",
      "15288/15288 [==============================] - 35s 2ms/step - loss: 4.1748 - acc: 0.4668 - val_loss: 4.1933 - val_acc: 0.4726\n",
      "Epoch 6/10\n",
      "15288/15288 [==============================] - 35s 2ms/step - loss: 3.9732 - acc: 0.4815 - val_loss: 4.3048 - val_acc: 0.5044\n",
      "Epoch 7/10\n",
      "15288/15288 [==============================] - 39s 3ms/step - loss: 3.8908 - acc: 0.4961 - val_loss: 4.3264 - val_acc: 0.4709\n",
      "Epoch 8/10\n",
      "15288/15288 [==============================] - 39s 3ms/step - loss: 3.8788 - acc: 0.5061 - val_loss: 4.3152 - val_acc: 0.4644\n",
      "Epoch 9/10\n",
      "15288/15288 [==============================] - 34s 2ms/step - loss: 3.7762 - acc: 0.5152 - val_loss: 4.4330 - val_acc: 0.4114\n",
      "Epoch 10/10\n",
      "15288/15288 [==============================] - 35s 2ms/step - loss: 3.7207 - acc: 0.5182 - val_loss: 5.0627 - val_acc: 0.4267\n"
     ]
    }
   ],
   "source": [
    "history = model.fit(x_train_pad, y_encoded,\n",
    " batch_size=32,\n",
    " epochs=10,\n",
    " class_weight = class_weight,\n",
    " validation_split = 0.1)"
   ]
  },
  {
   "cell_type": "code",
   "execution_count": 62,
   "metadata": {},
   "outputs": [
    {
     "data": {
      "image/png": "[encoded data removed]",
      "text/plain": [
       "<Figure size 432x288 with 1 Axes>"
      ]
     },
     "metadata": {
      "needs_background": "light"
     },
     "output_type": "display_data"
    }
   ],
   "source": [
    "fig1 = plt.figure()\n",
    "plt.plot(history.history['loss'],'r',linewidth=3.0)\n",
    "plt.plot(history.history['val_loss'],'b',linewidth=3.0)\n",
    "plt.legend(['Training loss', 'Validation Loss'],fontsize=18)\n",
    "plt.xlabel('Epochs ',fontsize=16)\n",
    "plt.ylabel('Loss',fontsize=16)\n",
    "plt.title('Loss Curves :CNN',fontsize=16)\n",
    "plt.show()"
   ]
  },
  {
   "cell_type": "code",
   "execution_count": 63,
   "metadata": {},
   "outputs": [
    {
     "data": {
      "text/plain": [
       "array([[6.90290555e-02, 3.21983621e-02, 5.03392220e-01, ...,\n",
       "        1.52416065e-01, 1.40798781e-02, 2.44907383e-03],\n",
       "       [8.05435926e-02, 4.54845503e-02, 6.50364816e-01, ...,\n",
       "        1.79257303e-01, 1.69675436e-03, 3.89414345e-04],\n",
       "       [1.62239820e-01, 8.72331634e-02, 4.40511048e-01, ...,\n",
       "        9.58310142e-02, 1.97300427e-02, 6.63602026e-03],\n",
       "       ...,\n",
       "       [2.07700804e-01, 1.87138438e-01, 2.49039344e-02, ...,\n",
       "        1.52333602e-01, 2.65349261e-03, 1.94823614e-03],\n",
       "       [3.80617380e-02, 1.53355692e-02, 9.21947122e-01, ...,\n",
       "        1.60703417e-02, 7.77744455e-04, 6.02796488e-03],\n",
       "       [5.48651293e-02, 2.35294234e-02, 1.57594562e-01, ...,\n",
       "        1.04457445e-01, 1.12700732e-02, 1.18824665e-03]], dtype=float32)"
      ]
     },
     "execution_count": 63,
     "metadata": {},
     "output_type": "execute_result"
    }
   ],
   "source": [
    "predicted=model.predict(x_test_pad)\n",
    "predicted"
   ]
  },
  {
   "cell_type": "code",
   "execution_count": 64,
   "metadata": {},
   "outputs": [
    {
     "name": "stdout",
     "output_type": "stream",
     "text": [
      "                                                     precision    recall  f1-score   support\n",
      "\n",
      "                Information belongs to someone else       0.46      0.01      0.02      1070\n",
      "                           Account status incorrect       0.62      0.18      0.28      1107\n",
      "                      Account information incorrect       0.94      0.46      0.62      2444\n",
      "                     Personal information incorrect       0.06      0.85      0.11       135\n",
      "       Old information reappears or never goes away       0.36      0.34      0.35       321\n",
      "               Public record information inaccurate       0.75      0.67      0.71       323\n",
      "Information is missing that should be on the report       0.82      0.45      0.58       263\n",
      "\n",
      "                                          micro avg       0.45      0.34      0.39      5663\n",
      "                                          macro avg       0.57      0.42      0.38      5663\n",
      "                                       weighted avg       0.72      0.34      0.42      5663\n",
      "                                        samples avg       0.34      0.34      0.34      5663\n",
      "\n"
     ]
    },
    {
     "name": "stderr",
     "output_type": "stream",
     "text": [
      "C:\\Users\\licor\\AppData\\Local\\Continuum\\anaconda3\\lib\\site-packages\\sklearn\\metrics\\_classification.py:1272: UndefinedMetricWarning: Precision and F-score are ill-defined and being set to 0.0 in samples with no predicted labels. Use `zero_division` parameter to control this behavior.\n",
      "  _warn_prf(average, modifier, msg_start, len(result))\n"
     ]
    }
   ],
   "source": [
    "import sklearn\n",
    "from sklearn.metrics import precision_recall_fscore_support as score\n",
    "print(sklearn.metrics.classification_report(y_encoded_test, predicted.round(),target_names=df_clean['sub_issue'].unique()))"
   ]
  },
  {
   "cell_type": "markdown",
   "metadata": {},
   "source": [
    "# LSTM"
   ]
  },
  {
   "cell_type": "code",
   "execution_count": 65,
   "metadata": {},
   "outputs": [
    {
     "name": "stdout",
     "output_type": "stream",
     "text": [
      "Model: \"model_1\"\n",
      "_________________________________________________________________\n",
      "Layer (type)                 Output Shape              Param #   \n",
      "=================================================================\n",
      "input_1 (InputLayer)         (None, 254)               0         \n",
      "_________________________________________________________________\n",
      "embedding_2 (Embedding)      (None, 254, 100)          1425900   \n",
      "_________________________________________________________________\n",
      "bidirectional_1 (Bidirection (None, 254, 120)          77280     \n",
      "_________________________________________________________________\n",
      "global_max_pooling1d_1 (Glob (None, 120)               0         \n",
      "_________________________________________________________________\n",
      "dropout_4 (Dropout)          (None, 120)               0         \n",
      "_________________________________________________________________\n",
      "dense_3 (Dense)              (None, 50)                6050      \n",
      "_________________________________________________________________\n",
      "dropout_5 (Dropout)          (None, 50)                0         \n",
      "_________________________________________________________________\n",
      "dense_4 (Dense)              (None, 7)                 357       \n",
      "=================================================================\n",
      "Total params: 1,509,587\n",
      "Trainable params: 83,687\n",
      "Non-trainable params: 1,425,900\n",
      "_________________________________________________________________\n"
     ]
    }
   ],
   "source": [
    "inp = Input(shape=(max_tokens, ))\n",
    "x = Embedding(len(tokenizer.word_index) + 1, embedding_matrix.shape[1],weights=[embedding_matrix],trainable=False)(inp)\n",
    "x = Bidirectional(LSTM(60, return_sequences=True,name='lstm_layer',dropout=0.1,recurrent_dropout=0.1))(x)\n",
    "x = GlobalMaxPool1D()(x)\n",
    "x = Dropout(0.10)(x)\n",
    "x = Dense(50, activation=\"relu\")(x)\n",
    "x = Dropout(0.10)(x)\n",
    "x = Dense(7, activation=\"softmax\")(x)\n",
    "model = Model(inputs=inp, outputs=x)\n",
    "model.compile(loss='categorical_crossentropy',optimizer='rmsprop',metrics=['accuracy'])\n",
    "model.summary()"
   ]
  },
  {
   "cell_type": "code",
   "execution_count": 66,
   "metadata": {},
   "outputs": [
    {
     "name": "stdout",
     "output_type": "stream",
     "text": [
      "Train on 16987 samples, validate on 5663 samples\n",
      "Epoch 1/10\n",
      "16987/16987 [==============================] - 139s 8ms/step - loss: 4.5945 - accuracy: 0.4525 - val_loss: 1.3710 - val_accuracy: 0.4994\n",
      "Epoch 2/10\n",
      "16987/16987 [==============================] - 147s 9ms/step - loss: 3.7748 - accuracy: 0.5540 - val_loss: 1.2024 - val_accuracy: 0.5679\n",
      "Epoch 3/10\n",
      "16987/16987 [==============================] - 150s 9ms/step - loss: 3.5362 - accuracy: 0.5790 - val_loss: 1.1203 - val_accuracy: 0.5947\n",
      "Epoch 4/10\n",
      "16987/16987 [==============================] - 150s 9ms/step - loss: 3.3231 - accuracy: 0.5938 - val_loss: 1.1015 - val_accuracy: 0.6069\n",
      "Epoch 5/10\n",
      "16987/16987 [==============================] - 154s 9ms/step - loss: 3.1749 - accuracy: 0.6040 - val_loss: 1.0838 - val_accuracy: 0.6039\n",
      "Epoch 6/10\n",
      "16987/16987 [==============================] - 152s 9ms/step - loss: 3.0378 - accuracy: 0.6147 - val_loss: 1.0289 - val_accuracy: 0.6149\n",
      "Epoch 7/10\n",
      "16987/16987 [==============================] - 153s 9ms/step - loss: 2.9076 - accuracy: 0.6242 - val_loss: 1.0098 - val_accuracy: 0.6202\n",
      "Epoch 8/10\n",
      "16987/16987 [==============================] - 155s 9ms/step - loss: 2.8087 - accuracy: 0.6310 - val_loss: 1.0242 - val_accuracy: 0.6200\n",
      "Epoch 9/10\n",
      "16987/16987 [==============================] - 155s 9ms/step - loss: 2.7082 - accuracy: 0.6361 - val_loss: 1.0556 - val_accuracy: 0.6161\n",
      "Epoch 10/10\n",
      "16987/16987 [==============================] - 156s 9ms/step - loss: 2.6405 - accuracy: 0.6453 - val_loss: 0.9944 - val_accuracy: 0.6389\n"
     ]
    }
   ],
   "source": [
    "history = model.fit(x_train_pad, y_encoded,\n",
    " batch_size=32,\n",
    " epochs=10,\n",
    " class_weight = class_weight,\n",
    " validation_data= (x_test_pad, y_encoded_test))"
   ]
  },
  {
   "cell_type": "code",
   "execution_count": 67,
   "metadata": {},
   "outputs": [
    {
     "data": {
      "image/png": "[encoded data removed]",
      "text/plain": [
       "<Figure size 432x288 with 1 Axes>"
      ]
     },
     "metadata": {
      "needs_background": "light"
     },
     "output_type": "display_data"
    }
   ],
   "source": [
    "fig1 = plt.figure()\n",
    "plt.plot(history.history['loss'],'r',linewidth=3.0)\n",
    "plt.plot(history.history['val_loss'],'b',linewidth=3.0)\n",
    "plt.legend(['Training loss', 'Validation Loss'],fontsize=18)\n",
    "plt.xlabel('Epochs ',fontsize=16)\n",
    "plt.ylabel('Loss',fontsize=16)\n",
    "plt.title('Loss Curves :CNN',fontsize=16)\n",
    "plt.show()"
   ]
  },
  {
   "cell_type": "code",
   "execution_count": 68,
   "metadata": {},
   "outputs": [
    {
     "name": "stdout",
     "output_type": "stream",
     "text": [
      "                                                     precision    recall  f1-score   support\n",
      "\n",
      "                Information belongs to someone else       0.76      0.17      0.28      1070\n",
      "                           Account status incorrect       0.64      0.41      0.50      1107\n",
      "                      Account information incorrect       0.91      0.69      0.79      2444\n",
      "                     Personal information incorrect       0.28      0.47      0.35       135\n",
      "       Old information reappears or never goes away       0.48      0.48      0.48       321\n",
      "               Public record information inaccurate       0.70      0.82      0.76       323\n",
      "Information is missing that should be on the report       0.61      0.70      0.65       263\n",
      "\n",
      "                                          micro avg       0.74      0.53      0.62      5663\n",
      "                                          macro avg       0.63      0.54      0.54      5663\n",
      "                                       weighted avg       0.76      0.53      0.60      5663\n",
      "                                        samples avg       0.53      0.53      0.53      5663\n",
      "\n"
     ]
    },
    {
     "name": "stderr",
     "output_type": "stream",
     "text": [
      "C:\\Users\\licor\\AppData\\Local\\Continuum\\anaconda3\\lib\\site-packages\\sklearn\\metrics\\_classification.py:1272: UndefinedMetricWarning: Precision and F-score are ill-defined and being set to 0.0 in samples with no predicted labels. Use `zero_division` parameter to control this behavior.\n",
      "  _warn_prf(average, modifier, msg_start, len(result))\n"
     ]
    }
   ],
   "source": [
    "predicted=model.predict(x_test_pad)\n",
    "print(sklearn.metrics.classification_report(y_encoded_test, predicted.round(),target_names=df_clean['sub_issue'].unique()))"
   ]
  },
  {
   "cell_type": "code",
   "execution_count": null,
   "metadata": {},
   "outputs": [],
   "source": []
  }
 ],
 "metadata": {
  "kernelspec": {
   "display_name": "Python 3",
   "language": "python",
   "name": "python3"
  },
  "language_info": {
   "codemirror_mode": {
    "name": "ipython",
    "version": 3
   },
   "file_extension": ".py",
   "mimetype": "text/x-python",
   "name": "python",
   "nbconvert_exporter": "python",
   "pygments_lexer": "ipython3",
   "version": "3.7.4"
  }
 },
 "nbformat": 4,
 "nbformat_minor": 2
}
